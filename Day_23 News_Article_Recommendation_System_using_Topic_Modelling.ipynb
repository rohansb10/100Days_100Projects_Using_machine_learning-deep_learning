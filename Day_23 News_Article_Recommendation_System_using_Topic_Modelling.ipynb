{
  "cells": [
    {
      "cell_type": "markdown",
      "metadata": {
        "id": "hMggxlS_FU8f"
      },
      "source": [
        "# News Article Recommendation System using LDA Topic Modelling"
      ]
    },
    {
      "cell_type": "code",
      "execution_count": null,
      "metadata": {
        "id": "iJy_etTrEvP7"
      },
      "outputs": [],
      "source": [
        "!pip install ktrain==0.26.2"
      ]
    },
    {
      "cell_type": "code",
      "execution_count": 2,
      "metadata": {
        "id": "S8iSvsxPE_XH"
      },
      "outputs": [],
      "source": [
        "import os\n",
        "import numpy as np\n",
        "import pandas as pd\n",
        "import ktrain\n",
        "from sklearn.datasets import fetch_20newsgroups"
      ]
    },
    {
      "cell_type": "code",
      "execution_count": 5,
      "metadata": {
        "id": "5myZ-mPWE_Z_"
      },
      "outputs": [],
      "source": [
        "remove = ('headers', 'footers', 'quotes')\n",
        "train = fetch_20newsgroups(subset='train', remove=remove)\n",
        "test = fetch_20newsgroups(subset='test', remove=remove)\n",
        "\n",
        "texts = train.data + test.data"
      ]
    },
    {
      "cell_type": "code",
      "execution_count": 7,
      "metadata": {
        "colab": {
          "base_uri": "https://localhost:8080/"
        },
        "id": "xAbvm0X-E_cv",
        "outputId": "dd41c259-bd65-42ba-b97e-680afe6bfda3"
      },
      "outputs": [
        {
          "name": "stdout",
          "output_type": "stream",
          "text": [
            "n_topics automatically set to 97\n",
            "lang: en\n",
            "preprocessing texts...\n",
            "fitting model...\n",
            "iteration: 1 of max_iter: 5\n",
            "iteration: 2 of max_iter: 5\n",
            "iteration: 3 of max_iter: 5\n",
            "iteration: 4 of max_iter: 5\n",
            "iteration: 5 of max_iter: 5\n",
            "done.\n",
            "CPU times: user 2min 54s, sys: 2min 12s, total: 5min 6s\n",
            "Wall time: 2min 40s\n"
          ]
        }
      ],
      "source": [
        "%%time\n",
        "tm = ktrain.text.get_topic_model(texts, n_features=10000)"
      ]
    },
    {
      "cell_type": "code",
      "execution_count": 8,
      "metadata": {
        "colab": {
          "base_uri": "https://localhost:8080/"
        },
        "id": "ocFHvbgiSVmW",
        "outputId": "4a5bef39-de34-4e25-a60e-837b25457e96"
      },
      "outputs": [
        {
          "name": "stdout",
          "output_type": "stream",
          "text": [
            "done.\n"
          ]
        }
      ],
      "source": [
        "tm.build(texts, threshold=0.25)"
      ]
    },
    {
      "cell_type": "code",
      "execution_count": 10,
      "metadata": {
        "id": "NQ1VybzfSVpF"
      },
      "outputs": [],
      "source": [
        "tm.train_recommender()"
      ]
    },
    {
      "cell_type": "code",
      "execution_count": 17,
      "metadata": {
        "id": "UzxA5LLmSVs4"
      },
      "outputs": [],
      "source": [
        "rawtext = \"\"\"\n",
        " On Monday, May 17, at 1:10 p.m. EDT, NASA astronaut Megan McArthur will answer prerecorded video questions from students across the greater Houston area coordinated by the Ismaili Council for the Southwestern United States. Participating students are from the Aldine, Alief, Fort Bend, Houston, and Stafford school districts, as well as the private Awty International, Etoile Academy, The Honor Roll, and The Village Schools. Houston Mayor Sylvester Turner will offer prerecorded opening remarks. Media interested in covering it should contact Alim Adatia at: 832-605-5296 or aadatia@gmail.com.\n",
        " \"\"\""
      ]
    },
    {
      "cell_type": "code",
      "execution_count": 18,
      "metadata": {
        "colab": {
          "base_uri": "https://localhost:8080/"
        },
        "id": "0nZWCLW7XBcK",
        "outputId": "e6c2c0ef-201b-4ac1-aa62-962326e46c6c"
      },
      "outputs": [
        {
          "data": {
            "text/plain": [
              "[{'doc_id': 288,\n",
              "  'text': 'Is there anyone out there running a Chicago National\\n\\tLeague Ballclub list?  If so, please send me information\\n\\ton it to...\\n\\t\\t\\tandrew@aardvark.ucs.uoknor.edu\\n\\n\\tThanks!',\n",
              "  'topic_id': 29,\n",
              "  'topic_proba': 0.3317774094940724},\n",
              " {'doc_id': 598,\n",
              "  'text': '\\nRefer to patents by JAMES HARRIS ROGERS:\\n958,829; 1,220,005; 1,322,622; 1,349,103; 1,315,862; 1,349,104;\\n1,303,729; 1,303,730; 1,316,188\\n\\nHe details methods of underground and underwater wireless communications.\\nFor a review, refer to _Electrical_Experimenter_, March 1919 and June 1919.\\n\\nRogers\\' methods were used extensively during the World War, and was\\nunclassified after the war. Supposedly, the government rethought this\\nsoon after, and Rogers was convieniently forgotten.\\n\\nThe bottom line is that all antennas that are grounded send HALF of\\ntheir signal THRU the ground. The half that travels thru space is\\nquickly dissapated (by the square of the distance), but that which\\ntravels thru the ground does not disapate at all. Furthermore,\\nthe published data showed that when noise drowned out regular\\nreception, the underground antennas would recieve virtually noise-free.\\n\\nIF you find this hard to believe, then refer to the work of the\\nman who INVENTED wireless: Tesla. Tesla confirmed that Rogers\\' methods\\nwere correct, while Hertzian wave theory was completely \"abberant\".\\n\\n----\\n ET   \"Tesla was 100 years ahead of his time. Perhaps now his time comes.\"',\n",
              "  'topic_id': 29,\n",
              "  'topic_proba': 0.32971886110780835},\n",
              " {'doc_id': 694,\n",
              "  'text': 'The following press release was distributed April 1 by\\nNASA Headquarters.\\n\\nSpace Station Redesign Advisory Members Named\\n\\nAlong with Dr. Charles M. Vest, recently named by Vice President\\nAlbert Gore to head the advisory committee on the redesign of the\\nSpace Station, NASA has announced the names of representatives\\nfrom government and industry and academic experts from across the\\ncountry to participate in an independent review of the redesign\\noptions being developed by NASA.\\n\\n\"I am extremely honored to have been selected to lead this\\nimportant review panel. America\\'s future in science and\\ntechnology and as a world leader in space demands our utmost\\nattention and care,\" said Vest. \"We have assembled a diverse\\npanel of experts that, I believe, will bring the appropriate\\nmeasures of insight, integrity and objectivity to this critical\\ntask.\"\\n\\nThe advisory committee is charged with independently assessing\\nvarious redesign options of the space station presented by NASA\\'s\\nredesign team, and proposing recommendations to improve\\nefficiency and effectiveness of the space station program. Space\\nstation international partners also are being asked to \\nparticipate and will be named at a later date. The advisory\\ncommittee will submit its recommendations in June.\\n\\nAdvisory committee members named today include:\\n\\nDr. Charles Vest              Dr. Bobby Alford\\nPresident, MIT                Executive VP & Dean of Medicine\\n                              Baylor College of Medicine\\n\\nMr. Jay Chabrow               Dr. Paul Chu\\nPresident, JMR Associates     Director, Texas Center for\\n                              Superconductivity\\n                              University of Houston\\n\\nDr. Ed Crawley                Dr. John Fabian\\nProf of Aero & Astro          President & CEO\\nMIT                           ANSER\\n\\nMaj. Gen. James Fain          Dr. Edward Fort\\nDeputy Chief of Staff for     Chancellor\\nRequirements; Headquarters    North Carolina AT&T\\nUSAF Materials Command        State University\\n\\nDr. Mary Good                 Mr. Frederick Hauck\\nSenior VP of Technology       President, International Technical\\nAllied Signal, Inc.           Underwriters\\n\\nDr. Lou Lanzerotti            Mr. William Lilly\\nChair, Space Sciences         National Academy of Public\\nBoard, National Research      Administration\\nCouncil\\n\\nMr. Duane McRuer              Dr. Brad Parkinson\\nPresident Systems Technology  Prof of Astro & Aero\\n                              Stanford University\\n\\nDr. Robert Seamans            Dr. Lee Silver\\nFormer NASA Deputy Admin.     W.M. Keck Foundation Professor\\n                              for Resource Geology\\n                              California Institute of\\n                              Technology',\n",
              "  'topic_id': 29,\n",
              "  'topic_proba': 0.42972171303817847},\n",
              " {'doc_id': 724,\n",
              "  'text': 'To: Dodge Dart collectors\\n\\nI have a 1964 Dodge (25th anniversary) Dart 273ci V8 wagon to turn into cash.\\nMy asking price is $300.00 although we can negotiate.  The car currently\\nresides in Union City, California.  Thats on the east side of the San Francisco\\nBay Area in the state of California of the United states of America on the\\ncontinent of North America of the planet Earth, third planetary body out from\\nSol, a mid range yellowish star in the Western Spiral Arm of the Milkyway\\nGalaxy.\\n\\ntoowhit: north of Silicon Valley\\n\\nif interested pleas contact Scott by the following means:\\n        internet                sbrogii@tymnet.com\\n        home answering machine  510.489.6165\\n        business voice mail     408.922.6547\\n        loud yell & wave money out the window\\n                        ^(not recommended in downtown urban environment)',\n",
              "  'topic_id': 29,\n",
              "  'topic_proba': 0.29800128761083466},\n",
              " {'doc_id': 874,\n",
              "  'text': \"Eric, send me email with your address, I lost it! I've reconsidered!\",\n",
              "  'topic_id': 29,\n",
              "  'topic_proba': 0.32038158943625306}]"
            ]
          },
          "execution_count": 18,
          "metadata": {
            "tags": []
          },
          "output_type": "execute_result"
        }
      ],
      "source": [
        "tm.recommend(text=rawtext, n=5)"
      ]
    },
    {
      "cell_type": "code",
      "execution_count": 19,
      "metadata": {
        "colab": {
          "base_uri": "https://localhost:8080/"
        },
        "id": "X5oNpDCwSVum",
        "outputId": "59e226f9-dfa1-43d5-f08f-5796d695c9c2"
      },
      "outputs": [
        {
          "name": "stdout",
          "output_type": "stream",
          "text": [
            "Result #1\n",
            "Text \n",
            "\n",
            "Is there anyone out there running a Chicago National League Ballclub list? If so, please send me information on it to... andrew@aardvark.ucs.uoknor.edu Thanks!\n",
            "\n",
            "Result #2\n",
            "Text \n",
            "\n",
            "Refer to patents by JAMES HARRIS ROGERS: 958,829; 1,220,005; 1,322,622; 1,349,103; 1,315,862; 1,349,104; 1,303,729; 1,303,730; 1,316,188 He details methods of underground and underwater wireless communications. For a review, refer to _Electrical_Experimenter_, March 1919 and June 1919. Rogers' methods were used extensively during the World War, and was unclassified after the war. Supposedly, the government rethought this soon after, and Rogers was convieniently forgotten. The bottom line is that all antennas that are grounded send HALF of their signal THRU the ground. The half that travels thru space is quickly dissapated (by the square of the distance), but that which travels thru the ground does not disapate at all. Furthermore, the published data showed that when noise drowned out regular reception, the underground antennas would recieve virtually noise-free. IF you find this hard to believe, then refer to the work of the man who INVENTED wireless: Tesla. Tesla confirmed that Rogers' methods were correct, while Hertzian wave theory was completely \"abberant\". ---- ET \"Tesla was 100 years ahead of his time. Perhaps now his time comes.\"\n",
            "\n",
            "Result #3\n",
            "Text \n",
            "\n",
            "The following press release was distributed April 1 by NASA Headquarters. Space Station Redesign Advisory Members Named Along with Dr. Charles M. Vest, recently named by Vice President Albert Gore to head the advisory committee on the redesign of the Space Station, NASA has announced the names of representatives from government and industry and academic experts from across the country to participate in an independent review of the redesign options being developed by NASA. \"I am extremely honored to have been selected to lead this important review panel. America's future in science and technology and as a world leader in space demands our utmost attention and care,\" said Vest. \"We have assembled a diverse panel of experts that, I believe, will bring the appropriate measures of insight, integrity and objectivity to this critical task.\" The advisory committee is charged with independently assessing various redesign options of the space station presented by NASA's redesign team, and proposing recommendations to improve efficiency and effectiveness of the space station program. Space station international partners also are being asked to participate and will be named at a later date. The advisory committee will submit its recommendations in June. Advisory committee members named today include: Dr. Charles Vest Dr. Bobby Alford President, MIT Executive VP & Dean of Medicine Baylor College of Medicine Mr. Jay Chabrow Dr. Paul Chu President, JMR Associates Director, Texas Center for Superconductivity University of Houston Dr. Ed Crawley Dr. John Fabian Prof of Aero & Astro President & CEO MIT ANSER Maj. Gen. James Fain Dr. Edward Fort Deputy Chief of Staff for Chancellor Requirements; Headquarters North Carolina AT&T USAF Materials Command State University Dr. Mary Good Mr. Frederick Hauck Senior VP of Technology President, International Technical Allied Signal, Inc. Underwriters Dr. Lou Lanzerotti Mr. William Lilly Chair, Space Sciences National Academy of Public Board, National Research Administration Council Mr. Duane McRuer Dr. Brad Parkinson President Systems Technology Prof of Astro & Aero Stanford University Dr. Robert Seamans Dr. Lee Silver Former NASA Deputy Admin. W.M. Keck Foundation Professor for Resource Geology California Institute of Technology\n",
            "\n",
            "Result #4\n",
            "Text \n",
            "\n",
            "To: Dodge Dart collectors I have a 1964 Dodge (25th anniversary) Dart 273ci V8 wagon to turn into cash. My asking price is $300.00 although we can negotiate. The car currently resides in Union City, California. Thats on the east side of the San Francisco Bay Area in the state of California of the United states of America on the continent of North America of the planet Earth, third planetary body out from Sol, a mid range yellowish star in the Western Spiral Arm of the Milkyway Galaxy. toowhit: north of Silicon Valley if interested pleas contact Scott by the following means: internet sbrogii@tymnet.com home answering machine 510.489.6165 business voice mail 408.922.6547 loud yell & wave money out the window ^(not recommended in downtown urban environment)\n",
            "\n",
            "Result #5\n",
            "Text \n",
            "\n",
            "Eric, send me email with your address, I lost it! I've reconsidered!\n",
            "\n"
          ]
        }
      ],
      "source": [
        "for i, doc in enumerate(tm.recommend(text=rawtext, n=5)):\n",
        "  print('Result #%s'% (i+1))\n",
        "  print('Text \\n')\n",
        "  print(\" \".join(doc['text'].split()[:500]))\n",
        "  print()"
      ]
    }
  ],
  "metadata": {
    "colab": {
      "name": "News Article Recommendation System using Topic Modelling.ipynb",
      "provenance": []
    },
    "kernelspec": {
      "display_name": "Python 3",
      "name": "python3"
    },
    "language_info": {
      "name": "python"
    }
  },
  "nbformat": 4,
  "nbformat_minor": 0
}
