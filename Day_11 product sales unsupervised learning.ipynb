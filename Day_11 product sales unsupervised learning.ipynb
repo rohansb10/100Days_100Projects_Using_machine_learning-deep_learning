{
 "cells": [
  {
   "cell_type": "code",
   "execution_count": 1,
   "id": "27df6d1d",
   "metadata": {
    "ExecuteTime": {
     "end_time": "2024-02-26T14:12:42.270737Z",
     "start_time": "2024-02-26T14:12:41.387291Z"
    }
   },
   "outputs": [],
   "source": [
    "import pandas as pd \n",
    "import warnings\n",
    "warnings.simplefilter('ignore')"
   ]
  },
  {
   "cell_type": "code",
   "execution_count": 2,
   "id": "e0d574d1",
   "metadata": {
    "ExecuteTime": {
     "end_time": "2024-02-26T14:12:42.312391Z",
     "start_time": "2024-02-26T14:12:42.273753Z"
    }
   },
   "outputs": [],
   "source": [
    "df= pd.read_csv(r\"C:\\Users\\Rohan\\Pictures\\rohan\\csv. file\\BigMart_Sales.csv\")"
   ]
  },
  {
   "cell_type": "code",
   "execution_count": 3,
   "id": "d3ec1126",
   "metadata": {
    "ExecuteTime": {
     "end_time": "2024-02-26T14:12:42.328198Z",
     "start_time": "2024-02-26T14:12:42.315351Z"
    }
   },
   "outputs": [
    {
     "data": {
      "text/plain": [
       "Item_Identifier                 0\n",
       "Item_Weight                  1463\n",
       "Item_Fat_Content                0\n",
       "Item_Visibility                 0\n",
       "Item_Type                       0\n",
       "Item_MRP                        0\n",
       "Outlet_Identifier               0\n",
       "Outlet_Establishment_Year       0\n",
       "Outlet_Size                  2410\n",
       "Outlet_Location_Type            0\n",
       "Outlet_Type                     0\n",
       "Item_Outlet_Sales               0\n",
       "dtype: int64"
      ]
     },
     "execution_count": 3,
     "metadata": {},
     "output_type": "execute_result"
    }
   ],
   "source": [
    "df.isnull().sum()"
   ]
  },
  {
   "cell_type": "code",
   "execution_count": null,
   "id": "4ec5bef6",
   "metadata": {},
   "outputs": [],
   "source": []
  },
  {
   "cell_type": "code",
   "execution_count": 4,
   "id": "425e0b58",
   "metadata": {
    "ExecuteTime": {
     "end_time": "2024-02-26T14:12:42.336291Z",
     "start_time": "2024-02-26T14:12:42.331215Z"
    }
   },
   "outputs": [
    {
     "data": {
      "text/plain": [
       "(8523, 12)"
      ]
     },
     "execution_count": 4,
     "metadata": {},
     "output_type": "execute_result"
    }
   ],
   "source": [
    "df.shape "
   ]
  },
  {
   "cell_type": "code",
   "execution_count": 5,
   "id": "618391ac",
   "metadata": {
    "ExecuteTime": {
     "end_time": "2024-02-26T14:12:42.365316Z",
     "start_time": "2024-02-26T14:12:42.342304Z"
    }
   },
   "outputs": [
    {
     "data": {
      "text/html": [
       "<div>\n",
       "<style scoped>\n",
       "    .dataframe tbody tr th:only-of-type {\n",
       "        vertical-align: middle;\n",
       "    }\n",
       "\n",
       "    .dataframe tbody tr th {\n",
       "        vertical-align: top;\n",
       "    }\n",
       "\n",
       "    .dataframe thead th {\n",
       "        text-align: right;\n",
       "    }\n",
       "</style>\n",
       "<table border=\"1\" class=\"dataframe\">\n",
       "  <thead>\n",
       "    <tr style=\"text-align: right;\">\n",
       "      <th></th>\n",
       "      <th>Item_Identifier</th>\n",
       "      <th>Item_Weight</th>\n",
       "      <th>Item_Fat_Content</th>\n",
       "      <th>Item_Visibility</th>\n",
       "      <th>Item_Type</th>\n",
       "      <th>Item_MRP</th>\n",
       "      <th>Outlet_Identifier</th>\n",
       "      <th>Outlet_Establishment_Year</th>\n",
       "      <th>Outlet_Size</th>\n",
       "      <th>Outlet_Location_Type</th>\n",
       "      <th>Outlet_Type</th>\n",
       "      <th>Item_Outlet_Sales</th>\n",
       "    </tr>\n",
       "  </thead>\n",
       "  <tbody>\n",
       "    <tr>\n",
       "      <th>0</th>\n",
       "      <td>FDA15</td>\n",
       "      <td>9.30</td>\n",
       "      <td>Low Fat</td>\n",
       "      <td>0.016047</td>\n",
       "      <td>Dairy</td>\n",
       "      <td>249.8092</td>\n",
       "      <td>OUT049</td>\n",
       "      <td>1999</td>\n",
       "      <td>Medium</td>\n",
       "      <td>Tier 1</td>\n",
       "      <td>Supermarket</td>\n",
       "      <td>3735.1380</td>\n",
       "    </tr>\n",
       "    <tr>\n",
       "      <th>1</th>\n",
       "      <td>DRC01</td>\n",
       "      <td>5.92</td>\n",
       "      <td>Regular</td>\n",
       "      <td>0.019278</td>\n",
       "      <td>Soft Drinks</td>\n",
       "      <td>48.2692</td>\n",
       "      <td>OUT018</td>\n",
       "      <td>2009</td>\n",
       "      <td>Medium</td>\n",
       "      <td>Tier 3</td>\n",
       "      <td>Supermarket</td>\n",
       "      <td>443.4228</td>\n",
       "    </tr>\n",
       "    <tr>\n",
       "      <th>2</th>\n",
       "      <td>FDN15</td>\n",
       "      <td>17.50</td>\n",
       "      <td>Low Fat</td>\n",
       "      <td>0.016760</td>\n",
       "      <td>Meat</td>\n",
       "      <td>141.6180</td>\n",
       "      <td>OUT049</td>\n",
       "      <td>1999</td>\n",
       "      <td>Medium</td>\n",
       "      <td>Tier 1</td>\n",
       "      <td>Supermarket</td>\n",
       "      <td>2097.2700</td>\n",
       "    </tr>\n",
       "    <tr>\n",
       "      <th>3</th>\n",
       "      <td>FDX07</td>\n",
       "      <td>19.20</td>\n",
       "      <td>Regular</td>\n",
       "      <td>0.000000</td>\n",
       "      <td>Fruits and Vegetables</td>\n",
       "      <td>182.0950</td>\n",
       "      <td>OUT010</td>\n",
       "      <td>1998</td>\n",
       "      <td>NaN</td>\n",
       "      <td>Tier 3</td>\n",
       "      <td>Grocery Store</td>\n",
       "      <td>732.3800</td>\n",
       "    </tr>\n",
       "    <tr>\n",
       "      <th>4</th>\n",
       "      <td>NCD19</td>\n",
       "      <td>8.93</td>\n",
       "      <td>Low Fat</td>\n",
       "      <td>0.000000</td>\n",
       "      <td>Household</td>\n",
       "      <td>53.8614</td>\n",
       "      <td>OUT013</td>\n",
       "      <td>1987</td>\n",
       "      <td>High</td>\n",
       "      <td>Tier 3</td>\n",
       "      <td>Supermarket</td>\n",
       "      <td>994.7052</td>\n",
       "    </tr>\n",
       "  </tbody>\n",
       "</table>\n",
       "</div>"
      ],
      "text/plain": [
       "  Item_Identifier  Item_Weight Item_Fat_Content  Item_Visibility  \\\n",
       "0           FDA15         9.30          Low Fat         0.016047   \n",
       "1           DRC01         5.92          Regular         0.019278   \n",
       "2           FDN15        17.50          Low Fat         0.016760   \n",
       "3           FDX07        19.20          Regular         0.000000   \n",
       "4           NCD19         8.93          Low Fat         0.000000   \n",
       "\n",
       "               Item_Type  Item_MRP Outlet_Identifier  \\\n",
       "0                  Dairy  249.8092            OUT049   \n",
       "1            Soft Drinks   48.2692            OUT018   \n",
       "2                   Meat  141.6180            OUT049   \n",
       "3  Fruits and Vegetables  182.0950            OUT010   \n",
       "4              Household   53.8614            OUT013   \n",
       "\n",
       "   Outlet_Establishment_Year Outlet_Size Outlet_Location_Type    Outlet_Type  \\\n",
       "0                       1999      Medium               Tier 1    Supermarket   \n",
       "1                       2009      Medium               Tier 3    Supermarket   \n",
       "2                       1999      Medium               Tier 1    Supermarket   \n",
       "3                       1998         NaN               Tier 3  Grocery Store   \n",
       "4                       1987        High               Tier 3    Supermarket   \n",
       "\n",
       "   Item_Outlet_Sales  \n",
       "0          3735.1380  \n",
       "1           443.4228  \n",
       "2          2097.2700  \n",
       "3           732.3800  \n",
       "4           994.7052  "
      ]
     },
     "execution_count": 5,
     "metadata": {},
     "output_type": "execute_result"
    }
   ],
   "source": [
    "df.head()"
   ]
  },
  {
   "cell_type": "code",
   "execution_count": 6,
   "id": "47a314d7",
   "metadata": {
    "ExecuteTime": {
     "end_time": "2024-02-26T14:12:42.375761Z",
     "start_time": "2024-02-26T14:12:42.367330Z"
    }
   },
   "outputs": [],
   "source": [
    "df =df.dropna()"
   ]
  },
  {
   "cell_type": "code",
   "execution_count": 7,
   "id": "2efc6f40",
   "metadata": {
    "ExecuteTime": {
     "end_time": "2024-02-26T14:12:42.387230Z",
     "start_time": "2024-02-26T14:12:42.378772Z"
    }
   },
   "outputs": [],
   "source": [
    "df.drop('Item_Identifier',axis=1,inplace=True)"
   ]
  },
  {
   "cell_type": "code",
   "execution_count": 8,
   "id": "a20e250e",
   "metadata": {
    "ExecuteTime": {
     "end_time": "2024-02-26T14:12:42.419465Z",
     "start_time": "2024-02-26T14:12:42.390244Z"
    }
   },
   "outputs": [
    {
     "name": "stdout",
     "output_type": "stream",
     "text": [
      "Column: Item_Fat_Content\n",
      "Item_Fat_Content\n",
      "Low Fat    2774\n",
      "Regular    1575\n",
      "LF          177\n",
      "reg          71\n",
      "low fat      53\n",
      "Name: count, dtype: int64\n",
      "\n",
      "\n",
      "Column: Item_Type\n",
      "Item_Type\n",
      "Fruits and Vegetables    670\n",
      "Snack Foods              656\n",
      "Household                498\n",
      "Frozen Foods             477\n",
      "Dairy                    380\n",
      "Canned                   361\n",
      "Baking Goods             351\n",
      "Health and Hygiene       277\n",
      "Soft Drinks              241\n",
      "Meat                     221\n",
      "Breads                   132\n",
      "Hard Drinks              117\n",
      "Others                    91\n",
      "Starchy Foods             87\n",
      "Breakfast                 58\n",
      "Seafood                   33\n",
      "Name: count, dtype: int64\n",
      "\n",
      "\n",
      "Column: Outlet_Identifier\n",
      "Outlet_Identifier\n",
      "OUT013    932\n",
      "OUT049    930\n",
      "OUT046    930\n",
      "OUT035    930\n",
      "OUT018    928\n",
      "Name: count, dtype: int64\n",
      "\n",
      "\n",
      "Column: Outlet_Size\n",
      "Outlet_Size\n",
      "Small     1860\n",
      "Medium    1858\n",
      "High       932\n",
      "Name: count, dtype: int64\n",
      "\n",
      "\n",
      "Column: Outlet_Location_Type\n",
      "Outlet_Location_Type\n",
      "Tier 1    1860\n",
      "Tier 3    1860\n",
      "Tier 2     930\n",
      "Name: count, dtype: int64\n",
      "\n",
      "\n",
      "Column: Outlet_Type\n",
      "Outlet_Type\n",
      "Supermarket    4650\n",
      "Name: count, dtype: int64\n",
      "\n",
      "\n"
     ]
    }
   ],
   "source": [
    "categorical_columns = df.select_dtypes(include=['object']).columns\n",
    "\n",
    "for column in categorical_columns:\n",
    "    print(f\"Column: {column}\")\n",
    "    print(df[column].value_counts())\n",
    "    print(\"\\n\")"
   ]
  },
  {
   "cell_type": "code",
   "execution_count": 9,
   "id": "3263a8e0",
   "metadata": {
    "ExecuteTime": {
     "end_time": "2024-02-26T14:12:42.449072Z",
     "start_time": "2024-02-26T14:12:42.421477Z"
    }
   },
   "outputs": [
    {
     "data": {
      "text/html": [
       "<div>\n",
       "<style scoped>\n",
       "    .dataframe tbody tr th:only-of-type {\n",
       "        vertical-align: middle;\n",
       "    }\n",
       "\n",
       "    .dataframe tbody tr th {\n",
       "        vertical-align: top;\n",
       "    }\n",
       "\n",
       "    .dataframe thead th {\n",
       "        text-align: right;\n",
       "    }\n",
       "</style>\n",
       "<table border=\"1\" class=\"dataframe\">\n",
       "  <thead>\n",
       "    <tr style=\"text-align: right;\">\n",
       "      <th></th>\n",
       "      <th>Item_Weight</th>\n",
       "      <th>Item_Fat_Content</th>\n",
       "      <th>Item_Visibility</th>\n",
       "      <th>Item_Type</th>\n",
       "      <th>Item_MRP</th>\n",
       "      <th>Outlet_Identifier</th>\n",
       "      <th>Outlet_Establishment_Year</th>\n",
       "      <th>Outlet_Size</th>\n",
       "      <th>Outlet_Location_Type</th>\n",
       "      <th>Outlet_Type</th>\n",
       "      <th>Item_Outlet_Sales</th>\n",
       "    </tr>\n",
       "  </thead>\n",
       "  <tbody>\n",
       "    <tr>\n",
       "      <th>0</th>\n",
       "      <td>9.300</td>\n",
       "      <td>1</td>\n",
       "      <td>0.016047</td>\n",
       "      <td>5</td>\n",
       "      <td>249.8092</td>\n",
       "      <td>3</td>\n",
       "      <td>1999</td>\n",
       "      <td>1</td>\n",
       "      <td>3</td>\n",
       "      <td>1</td>\n",
       "      <td>3735.1380</td>\n",
       "    </tr>\n",
       "    <tr>\n",
       "      <th>1</th>\n",
       "      <td>5.920</td>\n",
       "      <td>2</td>\n",
       "      <td>0.019278</td>\n",
       "      <td>9</td>\n",
       "      <td>48.2692</td>\n",
       "      <td>7</td>\n",
       "      <td>2009</td>\n",
       "      <td>1</td>\n",
       "      <td>1</td>\n",
       "      <td>1</td>\n",
       "      <td>443.4228</td>\n",
       "    </tr>\n",
       "    <tr>\n",
       "      <th>2</th>\n",
       "      <td>17.500</td>\n",
       "      <td>1</td>\n",
       "      <td>0.016760</td>\n",
       "      <td>10</td>\n",
       "      <td>141.6180</td>\n",
       "      <td>3</td>\n",
       "      <td>1999</td>\n",
       "      <td>1</td>\n",
       "      <td>3</td>\n",
       "      <td>1</td>\n",
       "      <td>2097.2700</td>\n",
       "    </tr>\n",
       "    <tr>\n",
       "      <th>4</th>\n",
       "      <td>8.930</td>\n",
       "      <td>1</td>\n",
       "      <td>0.000000</td>\n",
       "      <td>3</td>\n",
       "      <td>53.8614</td>\n",
       "      <td>2</td>\n",
       "      <td>1987</td>\n",
       "      <td>3</td>\n",
       "      <td>1</td>\n",
       "      <td>1</td>\n",
       "      <td>994.7052</td>\n",
       "    </tr>\n",
       "    <tr>\n",
       "      <th>5</th>\n",
       "      <td>10.395</td>\n",
       "      <td>2</td>\n",
       "      <td>0.000000</td>\n",
       "      <td>7</td>\n",
       "      <td>51.4008</td>\n",
       "      <td>7</td>\n",
       "      <td>2009</td>\n",
       "      <td>1</td>\n",
       "      <td>1</td>\n",
       "      <td>1</td>\n",
       "      <td>556.6088</td>\n",
       "    </tr>\n",
       "  </tbody>\n",
       "</table>\n",
       "</div>"
      ],
      "text/plain": [
       "   Item_Weight  Item_Fat_Content  Item_Visibility  Item_Type  Item_MRP  \\\n",
       "0        9.300                 1         0.016047          5  249.8092   \n",
       "1        5.920                 2         0.019278          9   48.2692   \n",
       "2       17.500                 1         0.016760         10  141.6180   \n",
       "4        8.930                 1         0.000000          3   53.8614   \n",
       "5       10.395                 2         0.000000          7   51.4008   \n",
       "\n",
       "   Outlet_Identifier  Outlet_Establishment_Year  Outlet_Size  \\\n",
       "0                  3                       1999            1   \n",
       "1                  7                       2009            1   \n",
       "2                  3                       1999            1   \n",
       "4                  2                       1987            3   \n",
       "5                  7                       2009            1   \n",
       "\n",
       "   Outlet_Location_Type  Outlet_Type  Item_Outlet_Sales  \n",
       "0                     3            1          3735.1380  \n",
       "1                     1            1           443.4228  \n",
       "2                     3            1          2097.2700  \n",
       "4                     1            1           994.7052  \n",
       "5                     1            1           556.6088  "
      ]
     },
     "execution_count": 9,
     "metadata": {},
     "output_type": "execute_result"
    }
   ],
   "source": [
    "import pandas as pd\n",
    "\n",
    "# Assuming your DataFrame is named 'df'\n",
    "\n",
    "# Mapping for 'Item_Fat_Content'\n",
    "fat_content_mapping = {'Low Fat': 1, 'Regular': 2, 'LF': 1, 'reg': 2, 'low fat': 1}\n",
    "df['Item_Fat_Content'] = df['Item_Fat_Content'].map(fat_content_mapping)\n",
    "\n",
    "# Mapping for 'Item_Type' (this is just an example, you can customize the mapping based on your needs)\n",
    "item_type_mapping = {'Fruits and Vegetables': 1, 'Snack Foods': 2, 'Household': 3, 'Frozen Foods': 4, 'Dairy': 5,\n",
    "                     'Canned': 6, 'Baking Goods': 7, 'Health and Hygiene': 8, 'Soft Drinks': 9, 'Meat': 10,\n",
    "                     'Breads': 11, 'Hard Drinks': 12, 'Others': 13, 'Starchy Foods': 14, 'Breakfast': 15, 'Seafood': 16}\n",
    "df['Item_Type'] = df['Item_Type'].map(item_type_mapping)\n",
    "\n",
    "# Mapping for 'Outlet_Identifier'\n",
    "outlet_identifier_mapping = {'OUT027': 1, 'OUT013': 2, 'OUT049': 3, 'OUT046': 4, 'OUT035': 5,\n",
    "                             'OUT045': 6, 'OUT018': 7, 'OUT017': 8, 'OUT010': 9, 'OUT019': 10}\n",
    "df['Outlet_Identifier'] = df['Outlet_Identifier'].map(outlet_identifier_mapping)\n",
    "\n",
    "# Mapping for 'Outlet_Size'\n",
    "outlet_size_mapping = {'Medium': 1, 'Small': 2, 'High': 3}\n",
    "df['Outlet_Size'] = df['Outlet_Size'].map(outlet_size_mapping)\n",
    "\n",
    "# Mapping for 'Outlet_Location_Type'\n",
    "outlet_location_mapping = {'Tier 3': 1, 'Tier 2': 2, 'Tier 1': 3}\n",
    "df['Outlet_Location_Type'] = df['Outlet_Location_Type'].map(outlet_location_mapping)\n",
    "\n",
    "# Mapping for 'Outlet_Type'\n",
    "outlet_type_mapping = {'Supermarket': 1, 'Grocery Store': 2}\n",
    "df['Outlet_Type'] = df['Outlet_Type'].map(outlet_type_mapping)\n",
    "\n",
    "df.head()"
   ]
  },
  {
   "cell_type": "code",
   "execution_count": 10,
   "id": "1c5d2bb7",
   "metadata": {
    "ExecuteTime": {
     "end_time": "2024-02-26T14:12:42.457602Z",
     "start_time": "2024-02-26T14:12:42.452094Z"
    }
   },
   "outputs": [
    {
     "data": {
      "text/plain": [
       "(4650, 11)"
      ]
     },
     "execution_count": 10,
     "metadata": {},
     "output_type": "execute_result"
    }
   ],
   "source": [
    "df.shape"
   ]
  },
  {
   "cell_type": "code",
   "execution_count": 11,
   "id": "f724d7c4",
   "metadata": {
    "ExecuteTime": {
     "end_time": "2024-02-26T14:12:42.468149Z",
     "start_time": "2024-02-26T14:12:42.459614Z"
    }
   },
   "outputs": [],
   "source": [
    "df.drop('Outlet_Establishment_Year',axis=1,inplace=True)\n",
    "df.drop('Item_Weight',axis=1,inplace=True)\n",
    "df.drop('Outlet_Identifier',axis=1,inplace=True)\n",
    "df.drop('Item_Identifier',axis=1,inplace=True)"
   ]
  },
  {
   "cell_type": "code",
   "execution_count": 12,
   "id": "0bfb3346",
   "metadata": {
    "ExecuteTime": {
     "end_time": "2024-02-26T14:12:42.485205Z",
     "start_time": "2024-02-26T14:12:42.470160Z"
    }
   },
   "outputs": [
    {
     "data": {
      "text/html": [
       "<div>\n",
       "<style scoped>\n",
       "    .dataframe tbody tr th:only-of-type {\n",
       "        vertical-align: middle;\n",
       "    }\n",
       "\n",
       "    .dataframe tbody tr th {\n",
       "        vertical-align: top;\n",
       "    }\n",
       "\n",
       "    .dataframe thead th {\n",
       "        text-align: right;\n",
       "    }\n",
       "</style>\n",
       "<table border=\"1\" class=\"dataframe\">\n",
       "  <thead>\n",
       "    <tr style=\"text-align: right;\">\n",
       "      <th></th>\n",
       "      <th>Item_Fat_Content</th>\n",
       "      <th>Item_Visibility</th>\n",
       "      <th>Item_Type</th>\n",
       "      <th>Item_MRP</th>\n",
       "      <th>Outlet_Size</th>\n",
       "      <th>Outlet_Location_Type</th>\n",
       "      <th>Outlet_Type</th>\n",
       "      <th>Item_Outlet_Sales</th>\n",
       "    </tr>\n",
       "  </thead>\n",
       "  <tbody>\n",
       "    <tr>\n",
       "      <th>0</th>\n",
       "      <td>1</td>\n",
       "      <td>0.016047</td>\n",
       "      <td>5</td>\n",
       "      <td>249.8092</td>\n",
       "      <td>1</td>\n",
       "      <td>3</td>\n",
       "      <td>1</td>\n",
       "      <td>3735.1380</td>\n",
       "    </tr>\n",
       "    <tr>\n",
       "      <th>1</th>\n",
       "      <td>2</td>\n",
       "      <td>0.019278</td>\n",
       "      <td>9</td>\n",
       "      <td>48.2692</td>\n",
       "      <td>1</td>\n",
       "      <td>1</td>\n",
       "      <td>1</td>\n",
       "      <td>443.4228</td>\n",
       "    </tr>\n",
       "    <tr>\n",
       "      <th>2</th>\n",
       "      <td>1</td>\n",
       "      <td>0.016760</td>\n",
       "      <td>10</td>\n",
       "      <td>141.6180</td>\n",
       "      <td>1</td>\n",
       "      <td>3</td>\n",
       "      <td>1</td>\n",
       "      <td>2097.2700</td>\n",
       "    </tr>\n",
       "    <tr>\n",
       "      <th>4</th>\n",
       "      <td>1</td>\n",
       "      <td>0.000000</td>\n",
       "      <td>3</td>\n",
       "      <td>53.8614</td>\n",
       "      <td>3</td>\n",
       "      <td>1</td>\n",
       "      <td>1</td>\n",
       "      <td>994.7052</td>\n",
       "    </tr>\n",
       "    <tr>\n",
       "      <th>5</th>\n",
       "      <td>2</td>\n",
       "      <td>0.000000</td>\n",
       "      <td>7</td>\n",
       "      <td>51.4008</td>\n",
       "      <td>1</td>\n",
       "      <td>1</td>\n",
       "      <td>1</td>\n",
       "      <td>556.6088</td>\n",
       "    </tr>\n",
       "  </tbody>\n",
       "</table>\n",
       "</div>"
      ],
      "text/plain": [
       "   Item_Fat_Content  Item_Visibility  Item_Type  Item_MRP  Outlet_Size  \\\n",
       "0                 1         0.016047          5  249.8092            1   \n",
       "1                 2         0.019278          9   48.2692            1   \n",
       "2                 1         0.016760         10  141.6180            1   \n",
       "4                 1         0.000000          3   53.8614            3   \n",
       "5                 2         0.000000          7   51.4008            1   \n",
       "\n",
       "   Outlet_Location_Type  Outlet_Type  Item_Outlet_Sales  \n",
       "0                     3            1          3735.1380  \n",
       "1                     1            1           443.4228  \n",
       "2                     3            1          2097.2700  \n",
       "4                     1            1           994.7052  \n",
       "5                     1            1           556.6088  "
      ]
     },
     "execution_count": 12,
     "metadata": {},
     "output_type": "execute_result"
    }
   ],
   "source": [
    "df.head()"
   ]
  },
  {
   "cell_type": "code",
   "execution_count": 13,
   "id": "16c22d09",
   "metadata": {
    "ExecuteTime": {
     "end_time": "2024-02-26T14:12:42.492847Z",
     "start_time": "2024-02-26T14:12:42.487221Z"
    }
   },
   "outputs": [],
   "source": [
    "new = df[['Item_Outlet_Sales','Item_Visibility','Item_MRP']]"
   ]
  },
  {
   "cell_type": "code",
   "execution_count": 14,
   "id": "ce8f2c4a",
   "metadata": {
    "ExecuteTime": {
     "end_time": "2024-02-26T14:12:44.542876Z",
     "start_time": "2024-02-26T14:12:42.498855Z"
    }
   },
   "outputs": [
    {
     "data": {
      "image/png": "[encoded data removed]",
      "text/plain": [
       "<Figure size 1200x800 with 3 Axes>"
      ]
     },
     "metadata": {},
     "output_type": "display_data"
    }
   ],
   "source": [
    "import seaborn as sns\n",
    "import matplotlib.pyplot as plt\n",
    "\n",
    "numerical_columns =['Item_Outlet_Sales','Item_Visibility','Item_MRP']\n",
    "\n",
    "plt.figure(figsize=(12, 8))\n",
    "for i, column in enumerate(numerical_columns, 1):\n",
    "    plt.subplot(2, 2, i)\n",
    "    sns.boxplot(x=df[column])\n",
    "\n",
    "plt.tight_layout()\n",
    "plt.show()"
   ]
  },
  {
   "cell_type": "code",
   "execution_count": 15,
   "id": "df0711a9",
   "metadata": {
    "ExecuteTime": {
     "end_time": "2024-02-26T14:12:45.812003Z",
     "start_time": "2024-02-26T14:12:44.544890Z"
    }
   },
   "outputs": [
    {
     "data": {
      "image/png": "[encoded data removed]",
      "text/plain": [
       "<Figure size 640x480 with 1 Axes>"
      ]
     },
     "metadata": {},
     "output_type": "display_data"
    }
   ],
   "source": [
    "import pandas as pd\n",
    "from sklearn.cluster import KMeans\n",
    "from sklearn.preprocessing import StandardScaler\n",
    "import matplotlib.pyplot as plt\n",
    "\n",
    "scaler = StandardScaler()\n",
    "scaled_data = scaler.fit_transform(new)\n",
    "\n",
    "inertia = []\n",
    "for i in range(1, 11):\n",
    "    kmeans = KMeans(n_clusters=i, random_state=42)\n",
    "    kmeans.fit(scaled_data)\n",
    "    inertia.append(kmeans.inertia_)\n",
    "\n",
    "plt.plot(range(1, 11), inertia, marker='o')\n",
    "plt.xlabel('Number of Clusters')\n",
    "plt.ylabel('Inertia (Within-cluster sum of squares)')\n",
    "plt.title('Elbow Method for Optimal k')\n",
    "plt.show()\n"
   ]
  },
  {
   "cell_type": "code",
   "execution_count": 26,
   "id": "6d7e9e1e",
   "metadata": {
    "ExecuteTime": {
     "end_time": "2024-02-26T14:22:37.737414Z",
     "start_time": "2024-02-26T14:22:37.297690Z"
    }
   },
   "outputs": [
    {
     "data": {
      "image/png": "[encoded data removed]",
      "text/plain": [
       "<Figure size 640x480 with 1 Axes>"
      ]
     },
     "metadata": {},
     "output_type": "display_data"
    }
   ],
   "source": [
    "import pandas as pd\n",
    "from sklearn.cluster import KMeans\n",
    "from sklearn.preprocessing import StandardScaler\n",
    "import matplotlib.pyplot as plt\n",
    "from sklearn.decomposition import PCA \n",
    "\n",
    "kmeans = KMeans(n_clusters=4, random_state=42)\n",
    "df['cluster'] = kmeans.fit_predict(new)\n",
    "\n",
    "pca = PCA(n_components=2)\n",
    "pca_result = pca.fit_transform(new)\n",
    "df['pca1'] = pca_result[:, 0]\n",
    "df['pca2'] = pca_result[:, 1]\n",
    "plt.scatter(new['Item_Outlet_Sales'], new['Item_MRP'], c=df['cluster'], cmap='viridis')\n",
    "plt.title('K-Means Clustering')\n",
    "plt.xlabel('Item_Outlet_Sales')\n",
    "plt.ylabel('Item_MRP')\n",
    "plt.title('heyeyeyey')\n",
    "plt.show()"
   ]
  },
  {
   "cell_type": "code",
   "execution_count": 19,
   "id": "b15ad4e8",
   "metadata": {
    "ExecuteTime": {
     "end_time": "2024-02-26T14:14:15.648967Z",
     "start_time": "2024-02-26T14:14:15.622062Z"
    }
   },
   "outputs": [
    {
     "data": {
      "text/html": [
       "<div>\n",
       "<style scoped>\n",
       "    .dataframe tbody tr th:only-of-type {\n",
       "        vertical-align: middle;\n",
       "    }\n",
       "\n",
       "    .dataframe tbody tr th {\n",
       "        vertical-align: top;\n",
       "    }\n",
       "\n",
       "    .dataframe thead th {\n",
       "        text-align: right;\n",
       "    }\n",
       "</style>\n",
       "<table border=\"1\" class=\"dataframe\">\n",
       "  <thead>\n",
       "    <tr style=\"text-align: right;\">\n",
       "      <th></th>\n",
       "      <th>Item_Fat_Content</th>\n",
       "      <th>Item_Visibility</th>\n",
       "      <th>Item_Type</th>\n",
       "      <th>Item_MRP</th>\n",
       "      <th>Outlet_Size</th>\n",
       "      <th>Outlet_Location_Type</th>\n",
       "      <th>Outlet_Type</th>\n",
       "      <th>Item_Outlet_Sales</th>\n",
       "      <th>cluster</th>\n",
       "      <th>pca1</th>\n",
       "      <th>pca2</th>\n",
       "    </tr>\n",
       "  </thead>\n",
       "  <tbody>\n",
       "    <tr>\n",
       "      <th>2528</th>\n",
       "      <td>1</td>\n",
       "      <td>0.054026</td>\n",
       "      <td>16</td>\n",
       "      <td>197.2768</td>\n",
       "      <td>2</td>\n",
       "      <td>3</td>\n",
       "      <td>1</td>\n",
       "      <td>6503.5344</td>\n",
       "      <td>3</td>\n",
       "      <td>4231.372270</td>\n",
       "      <td>-64.356712</td>\n",
       "    </tr>\n",
       "    <tr>\n",
       "      <th>6317</th>\n",
       "      <td>2</td>\n",
       "      <td>0.105208</td>\n",
       "      <td>2</td>\n",
       "      <td>170.5764</td>\n",
       "      <td>3</td>\n",
       "      <td>1</td>\n",
       "      <td>1</td>\n",
       "      <td>4466.1864</td>\n",
       "      <td>0</td>\n",
       "      <td>2194.085710</td>\n",
       "      <td>-33.320346</td>\n",
       "    </tr>\n",
       "    <tr>\n",
       "      <th>7657</th>\n",
       "      <td>1</td>\n",
       "      <td>0.042958</td>\n",
       "      <td>1</td>\n",
       "      <td>89.3172</td>\n",
       "      <td>2</td>\n",
       "      <td>2</td>\n",
       "      <td>1</td>\n",
       "      <td>2051.9956</td>\n",
       "      <td>2</td>\n",
       "      <td>-221.438217</td>\n",
       "      <td>-46.143442</td>\n",
       "    </tr>\n",
       "    <tr>\n",
       "      <th>5625</th>\n",
       "      <td>1</td>\n",
       "      <td>0.009816</td>\n",
       "      <td>13</td>\n",
       "      <td>211.8560</td>\n",
       "      <td>1</td>\n",
       "      <td>1</td>\n",
       "      <td>1</td>\n",
       "      <td>3621.9520</td>\n",
       "      <td>0</td>\n",
       "      <td>1351.359871</td>\n",
       "      <td>31.863148</td>\n",
       "    </tr>\n",
       "    <tr>\n",
       "      <th>4782</th>\n",
       "      <td>1</td>\n",
       "      <td>0.000000</td>\n",
       "      <td>5</td>\n",
       "      <td>151.9340</td>\n",
       "      <td>3</td>\n",
       "      <td>1</td>\n",
       "      <td>1</td>\n",
       "      <td>306.2680</td>\n",
       "      <td>1</td>\n",
       "      <td>-1964.690753</td>\n",
       "      <td>65.911517</td>\n",
       "    </tr>\n",
       "    <tr>\n",
       "      <th>1636</th>\n",
       "      <td>2</td>\n",
       "      <td>0.000000</td>\n",
       "      <td>1</td>\n",
       "      <td>115.0176</td>\n",
       "      <td>3</td>\n",
       "      <td>1</td>\n",
       "      <td>1</td>\n",
       "      <td>4122.6336</td>\n",
       "      <td>0</td>\n",
       "      <td>1849.096643</td>\n",
       "      <td>-79.122643</td>\n",
       "    </tr>\n",
       "    <tr>\n",
       "      <th>2887</th>\n",
       "      <td>2</td>\n",
       "      <td>0.140090</td>\n",
       "      <td>6</td>\n",
       "      <td>265.1884</td>\n",
       "      <td>1</td>\n",
       "      <td>1</td>\n",
       "      <td>1</td>\n",
       "      <td>6359.7216</td>\n",
       "      <td>3</td>\n",
       "      <td>4089.541411</td>\n",
       "      <td>7.602402</td>\n",
       "    </tr>\n",
       "    <tr>\n",
       "      <th>3308</th>\n",
       "      <td>1</td>\n",
       "      <td>0.060067</td>\n",
       "      <td>3</td>\n",
       "      <td>230.6642</td>\n",
       "      <td>2</td>\n",
       "      <td>3</td>\n",
       "      <td>1</td>\n",
       "      <td>4647.2840</td>\n",
       "      <td>3</td>\n",
       "      <td>2376.813125</td>\n",
       "      <td>21.612126</td>\n",
       "    </tr>\n",
       "    <tr>\n",
       "      <th>6277</th>\n",
       "      <td>1</td>\n",
       "      <td>0.000000</td>\n",
       "      <td>7</td>\n",
       "      <td>43.4086</td>\n",
       "      <td>1</td>\n",
       "      <td>1</td>\n",
       "      <td>1</td>\n",
       "      <td>401.4774</td>\n",
       "      <td>1</td>\n",
       "      <td>-1872.594528</td>\n",
       "      <td>-45.267966</td>\n",
       "    </tr>\n",
       "    <tr>\n",
       "      <th>7314</th>\n",
       "      <td>1</td>\n",
       "      <td>0.023947</td>\n",
       "      <td>3</td>\n",
       "      <td>106.9964</td>\n",
       "      <td>2</td>\n",
       "      <td>2</td>\n",
       "      <td>1</td>\n",
       "      <td>1788.3388</td>\n",
       "      <td>2</td>\n",
       "      <td>-484.488242</td>\n",
       "      <td>-21.000910</td>\n",
       "    </tr>\n",
       "  </tbody>\n",
       "</table>\n",
       "</div>"
      ],
      "text/plain": [
       "      Item_Fat_Content  Item_Visibility  Item_Type  Item_MRP  Outlet_Size  \\\n",
       "2528                 1         0.054026         16  197.2768            2   \n",
       "6317                 2         0.105208          2  170.5764            3   \n",
       "7657                 1         0.042958          1   89.3172            2   \n",
       "5625                 1         0.009816         13  211.8560            1   \n",
       "4782                 1         0.000000          5  151.9340            3   \n",
       "1636                 2         0.000000          1  115.0176            3   \n",
       "2887                 2         0.140090          6  265.1884            1   \n",
       "3308                 1         0.060067          3  230.6642            2   \n",
       "6277                 1         0.000000          7   43.4086            1   \n",
       "7314                 1         0.023947          3  106.9964            2   \n",
       "\n",
       "      Outlet_Location_Type  Outlet_Type  Item_Outlet_Sales  cluster  \\\n",
       "2528                     3            1          6503.5344        3   \n",
       "6317                     1            1          4466.1864        0   \n",
       "7657                     2            1          2051.9956        2   \n",
       "5625                     1            1          3621.9520        0   \n",
       "4782                     1            1           306.2680        1   \n",
       "1636                     1            1          4122.6336        0   \n",
       "2887                     1            1          6359.7216        3   \n",
       "3308                     3            1          4647.2840        3   \n",
       "6277                     1            1           401.4774        1   \n",
       "7314                     2            1          1788.3388        2   \n",
       "\n",
       "             pca1       pca2  \n",
       "2528  4231.372270 -64.356712  \n",
       "6317  2194.085710 -33.320346  \n",
       "7657  -221.438217 -46.143442  \n",
       "5625  1351.359871  31.863148  \n",
       "4782 -1964.690753  65.911517  \n",
       "1636  1849.096643 -79.122643  \n",
       "2887  4089.541411   7.602402  \n",
       "3308  2376.813125  21.612126  \n",
       "6277 -1872.594528 -45.267966  \n",
       "7314  -484.488242 -21.000910  "
      ]
     },
     "execution_count": 19,
     "metadata": {},
     "output_type": "execute_result"
    }
   ],
   "source": [
    "df.sample(10)"
   ]
  },
  {
   "cell_type": "code",
   "execution_count": 18,
   "id": "92631123",
   "metadata": {
    "ExecuteTime": {
     "end_time": "2024-02-26T14:12:46.147180Z",
     "start_time": "2024-02-26T14:12:46.140158Z"
    }
   },
   "outputs": [
    {
     "data": {
      "text/plain": [
       "array([0, 1, 2, 3])"
      ]
     },
     "execution_count": 18,
     "metadata": {},
     "output_type": "execute_result"
    }
   ],
   "source": [
    "df.cluster.unique()"
   ]
  },
  {
   "cell_type": "code",
   "execution_count": null,
   "id": "55fcf49f",
   "metadata": {},
   "outputs": [],
   "source": []
  }
 ],
 "metadata": {
  "kernelspec": {
   "display_name": "Python 3 (ipykernel)",
   "language": "python",
   "name": "python3"
  },
  "language_info": {
   "codemirror_mode": {
    "name": "ipython",
    "version": 3
   },
   "file_extension": ".py",
   "mimetype": "text/x-python",
   "name": "python",
   "nbconvert_exporter": "python",
   "pygments_lexer": "ipython3",
   "version": "3.11.5"
  },
  "toc": {
   "base_numbering": 1,
   "nav_menu": {},
   "number_sections": true,
   "sideBar": true,
   "skip_h1_title": false,
   "title_cell": "Table of Contents",
   "title_sidebar": "Contents",
   "toc_cell": false,
   "toc_position": {},
   "toc_section_display": true,
   "toc_window_display": false
  },
  "varInspector": {
   "cols": {
    "lenName": 16,
    "lenType": 16,
    "lenVar": 40
   },
   "kernels_config": {
    "python": {
     "delete_cmd_postfix": "",
     "delete_cmd_prefix": "del ",
     "library": "var_list.py",
     "varRefreshCmd": "print(var_dic_list())"
    },
    "r": {
     "delete_cmd_postfix": ") ",
     "delete_cmd_prefix": "rm(",
     "library": "var_list.r",
     "varRefreshCmd": "cat(var_dic_list()) "
    }
   },
   "types_to_exclude": [
    "module",
    "function",
    "builtin_function_or_method",
    "instance",
    "_Feature"
   ],
   "window_display": false
  }
 },
 "nbformat": 4,
 "nbformat_minor": 5
}
