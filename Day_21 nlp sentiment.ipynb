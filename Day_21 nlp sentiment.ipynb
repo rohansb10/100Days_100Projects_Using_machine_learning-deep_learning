{
 "cells": [
  {
   "cell_type": "code",
   "execution_count": 23,
   "id": "9ffa0ea5",
   "metadata": {
    "ExecuteTime": {
     "end_time": "2024-04-15T05:48:49.360768Z",
     "start_time": "2024-04-15T05:48:48.488568Z"
    }
   },
   "outputs": [],
   "source": [
    "import pandas as pd \n",
    "import re\n",
    "import string\n",
    "from nltk.tokenize import word_tokenize\n",
    "from nltk.corpus import stopwords\n",
    "from nltk.stem import WordNetLemmatizer \n",
    "from sklearn.feature_extraction.text import TfidfVectorizer\n",
    "from sklearn.linear_model import LogisticRegression\n",
    "from sklearn.model_selection import train_test_split\n",
    "from sklearn.metrics import accuracy_score, classification_report\n",
    "import matplotlib.pyplot as plt\n",
    "import seaborn as sns"
   ]
  },
  {
   "cell_type": "code",
   "execution_count": 2,
   "id": "53b0fbd3",
   "metadata": {
    "ExecuteTime": {
     "end_time": "2024-04-15T05:39:34.451639Z",
     "start_time": "2024-04-15T05:39:33.654192Z"
    }
   },
   "outputs": [],
   "source": [
    "df= pd.read_csv(r\"C:\\Users\\Rohan\\Pictures\\rohan\\NLP\\text.csv\")"
   ]
  },
  {
   "cell_type": "code",
   "execution_count": 3,
   "id": "d1a01365",
   "metadata": {
    "ExecuteTime": {
     "end_time": "2024-04-15T05:39:35.156904Z",
     "start_time": "2024-04-15T05:39:35.147192Z"
    }
   },
   "outputs": [
    {
     "data": {
      "text/plain": [
       "(416809, 3)"
      ]
     },
     "execution_count": 3,
     "metadata": {},
     "output_type": "execute_result"
    }
   ],
   "source": [
    "df.shape"
   ]
  },
  {
   "cell_type": "code",
   "execution_count": 4,
   "id": "de5830f4",
   "metadata": {
    "ExecuteTime": {
     "end_time": "2024-04-15T05:39:35.763965Z",
     "start_time": "2024-04-15T05:39:35.747646Z"
    }
   },
   "outputs": [
    {
     "data": {
      "text/html": [
       "<div>\n",
       "<style scoped>\n",
       "    .dataframe tbody tr th:only-of-type {\n",
       "        vertical-align: middle;\n",
       "    }\n",
       "\n",
       "    .dataframe tbody tr th {\n",
       "        vertical-align: top;\n",
       "    }\n",
       "\n",
       "    .dataframe thead th {\n",
       "        text-align: right;\n",
       "    }\n",
       "</style>\n",
       "<table border=\"1\" class=\"dataframe\">\n",
       "  <thead>\n",
       "    <tr style=\"text-align: right;\">\n",
       "      <th></th>\n",
       "      <th>Unnamed: 0</th>\n",
       "      <th>text</th>\n",
       "      <th>label</th>\n",
       "    </tr>\n",
       "  </thead>\n",
       "  <tbody>\n",
       "    <tr>\n",
       "      <th>0</th>\n",
       "      <td>0</td>\n",
       "      <td>i just feel really helpless and heavy hearted</td>\n",
       "      <td>4</td>\n",
       "    </tr>\n",
       "    <tr>\n",
       "      <th>1</th>\n",
       "      <td>1</td>\n",
       "      <td>ive enjoyed being able to slouch about relax a...</td>\n",
       "      <td>0</td>\n",
       "    </tr>\n",
       "    <tr>\n",
       "      <th>2</th>\n",
       "      <td>2</td>\n",
       "      <td>i gave up my internship with the dmrg and am f...</td>\n",
       "      <td>4</td>\n",
       "    </tr>\n",
       "    <tr>\n",
       "      <th>3</th>\n",
       "      <td>3</td>\n",
       "      <td>i dont know i feel so lost</td>\n",
       "      <td>0</td>\n",
       "    </tr>\n",
       "    <tr>\n",
       "      <th>4</th>\n",
       "      <td>4</td>\n",
       "      <td>i am a kindergarten teacher and i am thoroughl...</td>\n",
       "      <td>4</td>\n",
       "    </tr>\n",
       "  </tbody>\n",
       "</table>\n",
       "</div>"
      ],
      "text/plain": [
       "   Unnamed: 0                                               text  label\n",
       "0           0      i just feel really helpless and heavy hearted      4\n",
       "1           1  ive enjoyed being able to slouch about relax a...      0\n",
       "2           2  i gave up my internship with the dmrg and am f...      4\n",
       "3           3                         i dont know i feel so lost      0\n",
       "4           4  i am a kindergarten teacher and i am thoroughl...      4"
      ]
     },
     "execution_count": 4,
     "metadata": {},
     "output_type": "execute_result"
    }
   ],
   "source": [
    "df.head()"
   ]
  },
  {
   "cell_type": "code",
   "execution_count": 5,
   "id": "235d7a31",
   "metadata": {
    "ExecuteTime": {
     "end_time": "2024-04-15T05:39:39.019256Z",
     "start_time": "2024-04-15T05:39:39.000516Z"
    }
   },
   "outputs": [],
   "source": [
    "df.drop('Unnamed: 0',axis=1,inplace=True)"
   ]
  },
  {
   "cell_type": "code",
   "execution_count": 24,
   "id": "257a6cfb",
   "metadata": {
    "ExecuteTime": {
     "end_time": "2024-04-15T05:51:38.169371Z",
     "start_time": "2024-04-15T05:48:52.722138Z"
    }
   },
   "outputs": [],
   "source": [
    "def preprocess_text(text):\n",
    "    text = re.sub(r'<[^>]*>|[&?]', '', text)\n",
    "    text = text.translate(str.maketrans('', '', string.punctuation))\n",
    "    text = text.lower()\n",
    "    tokens = word_tokenize(text)\n",
    "    tokens = [word for word in tokens if word.isalnum() or word in ['!', '?']]\n",
    "    stop_words = set(stopwords.words('english'))\n",
    "    tokens = [word for word in tokens if word not in stop_words]\n",
    "    lemmatizer = WordNetLemmatizer()\n",
    "    tokens = [lemmatizer.lemmatize(word) for word in tokens]\n",
    "    preprocessed_text = ' '.join(tokens)\n",
    "    \n",
    "    return preprocessed_text\n",
    "\n",
    "df['text'] = df['text'].apply(preprocess_text)"
   ]
  },
  {
   "cell_type": "code",
   "execution_count": 6,
   "id": "b7f969c7",
   "metadata": {
    "ExecuteTime": {
     "end_time": "2024-04-15T05:39:41.731819Z",
     "start_time": "2024-04-15T05:39:41.722292Z"
    }
   },
   "outputs": [
    {
     "data": {
      "text/plain": [
       "(416809, 2)"
      ]
     },
     "execution_count": 6,
     "metadata": {},
     "output_type": "execute_result"
    }
   ],
   "source": [
    "df.shape"
   ]
  },
  {
   "cell_type": "code",
   "execution_count": 7,
   "id": "3be8f978",
   "metadata": {
    "ExecuteTime": {
     "end_time": "2024-04-15T05:39:47.335682Z",
     "start_time": "2024-04-15T05:39:47.319364Z"
    }
   },
   "outputs": [
    {
     "data": {
      "text/plain": [
       "label\n",
       "1    141067\n",
       "0    121187\n",
       "3     57317\n",
       "4     47712\n",
       "2     34554\n",
       "5     14972\n",
       "Name: count, dtype: int64"
      ]
     },
     "execution_count": 7,
     "metadata": {},
     "output_type": "execute_result"
    }
   ],
   "source": [
    "df.label.value_counts()"
   ]
  },
  {
   "cell_type": "code",
   "execution_count": 17,
   "id": "6f7f3a0e",
   "metadata": {
    "ExecuteTime": {
     "end_time": "2024-04-15T05:44:42.783742Z",
     "start_time": "2024-04-15T05:44:42.654813Z"
    }
   },
   "outputs": [],
   "source": [
    "from imblearn.under_sampling import RandomUnderSampler\n",
    "\n",
    "X = df.drop(columns=['label'])  \n",
    "y = df['label']  \n",
    "rus = RandomUnderSampler(random_state=42)\n",
    "X_resampled, y_resampled = rus.fit_resample(X, y)"
   ]
  },
  {
   "cell_type": "code",
   "execution_count": 30,
   "id": "4e7f560d",
   "metadata": {
    "ExecuteTime": {
     "end_time": "2024-04-15T05:54:14.709076Z",
     "start_time": "2024-04-15T05:54:14.700971Z"
    }
   },
   "outputs": [
    {
     "data": {
      "text/plain": [
       "(89832,)"
      ]
     },
     "execution_count": 30,
     "metadata": {},
     "output_type": "execute_result"
    }
   ],
   "source": [
    "y_resampled.shape"
   ]
  },
  {
   "cell_type": "code",
   "execution_count": 27,
   "id": "8855612a",
   "metadata": {
    "ExecuteTime": {
     "end_time": "2024-04-15T05:53:22.385806Z",
     "start_time": "2024-04-15T05:53:22.373550Z"
    }
   },
   "outputs": [
    {
     "data": {
      "text/html": [
       "<div>\n",
       "<style scoped>\n",
       "    .dataframe tbody tr th:only-of-type {\n",
       "        vertical-align: middle;\n",
       "    }\n",
       "\n",
       "    .dataframe tbody tr th {\n",
       "        vertical-align: top;\n",
       "    }\n",
       "\n",
       "    .dataframe thead th {\n",
       "        text-align: right;\n",
       "    }\n",
       "</style>\n",
       "<table border=\"1\" class=\"dataframe\">\n",
       "  <thead>\n",
       "    <tr style=\"text-align: right;\">\n",
       "      <th></th>\n",
       "      <th>text</th>\n",
       "    </tr>\n",
       "  </thead>\n",
       "  <tbody>\n",
       "    <tr>\n",
       "      <th>133243</th>\n",
       "      <td>ive learned surround woman lift leave feeling ...</td>\n",
       "    </tr>\n",
       "    <tr>\n",
       "      <th>88501</th>\n",
       "      <td>already feel crappy upset situation doesnt help</td>\n",
       "    </tr>\n",
       "    <tr>\n",
       "      <th>131379</th>\n",
       "      <td>feel like lost mourned moved past tear relatio...</td>\n",
       "    </tr>\n",
       "    <tr>\n",
       "      <th>148369</th>\n",
       "      <td>could write whole lot im feeling crappy dont t...</td>\n",
       "    </tr>\n",
       "    <tr>\n",
       "      <th>134438</th>\n",
       "      <td>always seem feel inadequate</td>\n",
       "    </tr>\n",
       "    <tr>\n",
       "      <th>...</th>\n",
       "      <td>...</td>\n",
       "    </tr>\n",
       "    <tr>\n",
       "      <th>416753</th>\n",
       "      <td>feel like stunned</td>\n",
       "    </tr>\n",
       "    <tr>\n",
       "      <th>416762</th>\n",
       "      <td>feel like muscle around eye something funny go...</td>\n",
       "    </tr>\n",
       "    <tr>\n",
       "      <th>416799</th>\n",
       "      <td>feel must confess even though kill say admit i...</td>\n",
       "    </tr>\n",
       "    <tr>\n",
       "      <th>416806</th>\n",
       "      <td>feel curious previous early dawn time seek tro...</td>\n",
       "    </tr>\n",
       "    <tr>\n",
       "      <th>416808</th>\n",
       "      <td>think spent time investigating surroundings th...</td>\n",
       "    </tr>\n",
       "  </tbody>\n",
       "</table>\n",
       "<p>89832 rows × 1 columns</p>\n",
       "</div>"
      ],
      "text/plain": [
       "                                                     text\n",
       "133243  ive learned surround woman lift leave feeling ...\n",
       "88501     already feel crappy upset situation doesnt help\n",
       "131379  feel like lost mourned moved past tear relatio...\n",
       "148369  could write whole lot im feeling crappy dont t...\n",
       "134438                        always seem feel inadequate\n",
       "...                                                   ...\n",
       "416753                                  feel like stunned\n",
       "416762  feel like muscle around eye something funny go...\n",
       "416799  feel must confess even though kill say admit i...\n",
       "416806  feel curious previous early dawn time seek tro...\n",
       "416808  think spent time investigating surroundings th...\n",
       "\n",
       "[89832 rows x 1 columns]"
      ]
     },
     "execution_count": 27,
     "metadata": {},
     "output_type": "execute_result"
    }
   ],
   "source": [
    "X_resampled"
   ]
  },
  {
   "cell_type": "code",
   "execution_count": 25,
   "id": "f04383bc",
   "metadata": {
    "ExecuteTime": {
     "end_time": "2024-04-15T05:52:30.841751Z",
     "start_time": "2024-04-15T05:51:52.591845Z"
    }
   },
   "outputs": [],
   "source": [
    "X_resampled['text'] = X_resampled['text'].apply(preprocess_text)"
   ]
  },
  {
   "cell_type": "code",
   "execution_count": 31,
   "id": "2c189036",
   "metadata": {
    "ExecuteTime": {
     "end_time": "2024-04-15T05:54:32.530981Z",
     "start_time": "2024-04-15T05:54:32.523300Z"
    }
   },
   "outputs": [
    {
     "data": {
      "text/plain": [
       "(89832,)"
      ]
     },
     "execution_count": 31,
     "metadata": {},
     "output_type": "execute_result"
    }
   ],
   "source": [
    "X_resampled['text'].shape"
   ]
  },
  {
   "cell_type": "markdown",
   "id": "48f079c3",
   "metadata": {},
   "source": [
    "without use resampling"
   ]
  },
  {
   "cell_type": "code",
   "execution_count": 33,
   "id": "13bb155d",
   "metadata": {
    "ExecuteTime": {
     "end_time": "2024-04-15T05:55:48.160926Z",
     "start_time": "2024-04-15T05:55:27.641624Z"
    }
   },
   "outputs": [
    {
     "name": "stderr",
     "output_type": "stream",
     "text": [
      "C:\\Users\\Rohan\\anaconda3\\Lib\\site-packages\\sklearn\\linear_model\\_logistic.py:469: ConvergenceWarning: lbfgs failed to converge (status=1):\n",
      "STOP: TOTAL NO. of ITERATIONS REACHED LIMIT.\n",
      "\n",
      "Increase the number of iterations (max_iter) or scale the data as shown in:\n",
      "    https://scikit-learn.org/stable/modules/preprocessing.html\n",
      "Please also refer to the documentation for alternative solver options:\n",
      "    https://scikit-learn.org/stable/modules/linear_model.html#logistic-regression\n",
      "  n_iter_i = _check_optimize_result(\n"
     ]
    },
    {
     "name": "stdout",
     "output_type": "stream",
     "text": [
      "Training Accuracy: 0.9184188191826587\n",
      "Testing Accuracy: 0.9001223579088794\n",
      "Classification Report for Testing Set:\n",
      "              precision    recall  f1-score   support\n",
      "\n",
      "           0       0.94      0.94      0.94     24201\n",
      "           1       0.91      0.93      0.92     28164\n",
      "           2       0.81      0.76      0.79      6929\n",
      "           3       0.90      0.90      0.90     11441\n",
      "           4       0.85      0.85      0.85      9594\n",
      "           5       0.79      0.70      0.74      3033\n",
      "\n",
      "    accuracy                           0.90     83362\n",
      "   macro avg       0.87      0.85      0.86     83362\n",
      "weighted avg       0.90      0.90      0.90     83362\n",
      "\n"
     ]
    }
   ],
   "source": [
    "X_train, X_test, y_train, y_test = train_test_split(df['text'], df.label, test_size=0.2, random_state=42)\n",
    "\n",
    "tfidf_vectorizer = TfidfVectorizer(max_features=43000)  # Adjust max_features as needed\n",
    "X_train_tfidf = tfidf_vectorizer.fit_transform(X_train)\n",
    "X_test_tfidf = tfidf_vectorizer.transform(X_test)\n",
    "\n",
    "model = LogisticRegression()\n",
    "model.fit(X_train_tfidf, y_train)\n",
    "\n",
    "y_train_pred = model.predict(X_train_tfidf)\n",
    "y_test_pred = model.predict(X_test_tfidf)\n",
    "\n",
    "train_accuracy = accuracy_score(y_train, y_train_pred)\n",
    "test_accuracy = accuracy_score(y_test, y_test_pred)\n",
    "\n",
    "print(\"Training Accuracy:\", train_accuracy)\n",
    "print(\"Testing Accuracy:\", test_accuracy)\n",
    "\n",
    "print(\"Classification Report for Testing Set:\")\n",
    "print(classification_report(y_test, y_test_pred))\n"
   ]
  },
  {
   "cell_type": "markdown",
   "id": "59266c11",
   "metadata": {},
   "source": [
    "with use resampling"
   ]
  },
  {
   "cell_type": "code",
   "execution_count": 35,
   "id": "1208eb96",
   "metadata": {
    "ExecuteTime": {
     "end_time": "2024-04-15T06:02:17.569550Z",
     "start_time": "2024-04-15T06:02:11.423133Z"
    }
   },
   "outputs": [
    {
     "name": "stdout",
     "output_type": "stream",
     "text": [
      "Training Accuracy: 0.9396507340151673\n",
      "Testing Accuracy: 0.9113931095898036\n",
      "Classification Report for Testing Set:\n",
      "              precision    recall  f1-score   support\n",
      "\n",
      "           0       0.94      0.91      0.92      2980\n",
      "           1       0.92      0.87      0.90      2961\n",
      "           2       0.91      0.96      0.93      3115\n",
      "           3       0.92      0.93      0.92      2981\n",
      "           4       0.91      0.85      0.88      3094\n",
      "           5       0.88      0.96      0.92      2836\n",
      "\n",
      "    accuracy                           0.91     17967\n",
      "   macro avg       0.91      0.91      0.91     17967\n",
      "weighted avg       0.91      0.91      0.91     17967\n",
      "\n"
     ]
    },
    {
     "name": "stderr",
     "output_type": "stream",
     "text": [
      "C:\\Users\\Rohan\\anaconda3\\Lib\\site-packages\\sklearn\\linear_model\\_logistic.py:469: ConvergenceWarning: lbfgs failed to converge (status=1):\n",
      "STOP: TOTAL NO. of ITERATIONS REACHED LIMIT.\n",
      "\n",
      "Increase the number of iterations (max_iter) or scale the data as shown in:\n",
      "    https://scikit-learn.org/stable/modules/preprocessing.html\n",
      "Please also refer to the documentation for alternative solver options:\n",
      "    https://scikit-learn.org/stable/modules/linear_model.html#logistic-regression\n",
      "  n_iter_i = _check_optimize_result(\n"
     ]
    }
   ],
   "source": [
    "X_train, X_test, y_train, y_test = train_test_split(X_resampled['text'], y_resampled, test_size=0.2, random_state=42)\n",
    "\n",
    "tfidf_vectorizer = TfidfVectorizer(max_features=43000)  # Adjust max_features as needed\n",
    "X_train_tfidf = tfidf_vectorizer.fit_transform(X_train)\n",
    "X_test_tfidf = tfidf_vectorizer.transform(X_test)\n",
    "\n",
    "model = LogisticRegression()\n",
    "model.fit(X_train_tfidf, y_train)\n",
    "\n",
    "y_train_pred = model.predict(X_train_tfidf)\n",
    "y_test_pred = model.predict(X_test_tfidf)\n",
    "\n",
    "train_accuracy = accuracy_score(y_train, y_train_pred)\n",
    "test_accuracy = accuracy_score(y_test, y_test_pred)\n",
    "\n",
    "print(\"Training Accuracy:\", train_accuracy)\n",
    "print(\"Testing Accuracy:\", test_accuracy)\n",
    "\n",
    "print(\"Classification Report for Testing Set:\")\n",
    "print(classification_report(y_test, y_test_pred))\n"
   ]
  },
  {
   "cell_type": "code",
   "execution_count": 39,
   "id": "ae4b42f1",
   "metadata": {
    "ExecuteTime": {
     "end_time": "2024-04-15T06:03:32.151278Z",
     "start_time": "2024-04-15T06:03:32.139683Z"
    }
   },
   "outputs": [
    {
     "name": "stdout",
     "output_type": "stream",
     "text": [
      "Predicted Sentiment: 4\n"
     ]
    }
   ],
   "source": [
    "def predict_sentiment(user_input, tfidf_vectorizer, model):\n",
    "    preprocessed_input = preprocess_text(user_input)\n",
    "    input_tfidf = tfidf_vectorizer.transform([preprocessed_input])\n",
    "    user_prediction = model.predict(input_tfidf)[0]\n",
    "    return user_prediction\n",
    "\n",
    "user_input = 'gave internship dmrg feeling distraught'\n",
    "predicted_sentiment = predict_sentiment(user_input, tfidf_vectorizer, model)\n",
    "print(\"Predicted Sentiment:\", predicted_sentiment)"
   ]
  },
  {
   "cell_type": "code",
   "execution_count": 42,
   "id": "9c470a68",
   "metadata": {
    "ExecuteTime": {
     "end_time": "2024-04-15T06:03:55.592679Z",
     "start_time": "2024-04-15T06:03:55.586089Z"
    }
   },
   "outputs": [
    {
     "data": {
      "text/plain": [
       "'gave internship dmrg feeling distraught'"
      ]
     },
     "execution_count": 42,
     "metadata": {},
     "output_type": "execute_result"
    }
   ],
   "source": [
    "df.text[2]"
   ]
  },
  {
   "cell_type": "code",
   "execution_count": 43,
   "id": "78a7599b",
   "metadata": {
    "ExecuteTime": {
     "end_time": "2024-04-15T06:03:57.790415Z",
     "start_time": "2024-04-15T06:03:57.781808Z"
    }
   },
   "outputs": [
    {
     "data": {
      "text/plain": [
       "4"
      ]
     },
     "execution_count": 43,
     "metadata": {},
     "output_type": "execute_result"
    }
   ],
   "source": [
    "df.label[2]"
   ]
  },
  {
   "cell_type": "code",
   "execution_count": null,
   "id": "271bbc3a",
   "metadata": {},
   "outputs": [],
   "source": []
  },
  {
   "cell_type": "code",
   "execution_count": 45,
   "id": "d703cd86",
   "metadata": {
    "ExecuteTime": {
     "end_time": "2024-04-15T06:04:36.467682Z",
     "start_time": "2024-04-15T06:04:36.459414Z"
    }
   },
   "outputs": [
    {
     "data": {
      "text/plain": [
       "'beginning feel quite disheartened'"
      ]
     },
     "execution_count": 45,
     "metadata": {},
     "output_type": "execute_result"
    }
   ],
   "source": [
    "df.text[5]"
   ]
  },
  {
   "cell_type": "code",
   "execution_count": 46,
   "id": "721c13f6",
   "metadata": {
    "ExecuteTime": {
     "end_time": "2024-04-15T06:04:36.626783Z",
     "start_time": "2024-04-15T06:04:36.619250Z"
    }
   },
   "outputs": [
    {
     "data": {
      "text/plain": [
       "0"
      ]
     },
     "execution_count": 46,
     "metadata": {},
     "output_type": "execute_result"
    }
   ],
   "source": [
    "df.label[5]"
   ]
  },
  {
   "cell_type": "code",
   "execution_count": 47,
   "id": "1adb99fc",
   "metadata": {
    "ExecuteTime": {
     "end_time": "2024-04-15T06:04:45.894472Z",
     "start_time": "2024-04-15T06:04:45.883343Z"
    }
   },
   "outputs": [
    {
     "name": "stdout",
     "output_type": "stream",
     "text": [
      "Predicted Sentiment: 0\n"
     ]
    }
   ],
   "source": [
    "user_input ='beginning feel quite disheartened'\n",
    "predicted_sentiment = predict_sentiment(user_input, tfidf_vectorizer, model)\n",
    "print(\"Predicted Sentiment:\", predicted_sentiment)"
   ]
  },
  {
   "cell_type": "code",
   "execution_count": null,
   "id": "c6acc479",
   "metadata": {},
   "outputs": [],
   "source": []
  }
 ],
 "metadata": {
  "kernelspec": {
   "display_name": "Python 3 (ipykernel)",
   "language": "python",
   "name": "python3"
  },
  "language_info": {
   "codemirror_mode": {
    "name": "ipython",
    "version": 3
   },
   "file_extension": ".py",
   "mimetype": "text/x-python",
   "name": "python",
   "nbconvert_exporter": "python",
   "pygments_lexer": "ipython3",
   "version": "3.11.5"
  },
  "toc": {
   "base_numbering": 1,
   "nav_menu": {},
   "number_sections": true,
   "sideBar": true,
   "skip_h1_title": false,
   "title_cell": "Table of Contents",
   "title_sidebar": "Contents",
   "toc_cell": false,
   "toc_position": {},
   "toc_section_display": true,
   "toc_window_display": false
  },
  "varInspector": {
   "cols": {
    "lenName": 16,
    "lenType": 16,
    "lenVar": 40
   },
   "kernels_config": {
    "python": {
     "delete_cmd_postfix": "",
     "delete_cmd_prefix": "del ",
     "library": "var_list.py",
     "varRefreshCmd": "print(var_dic_list())"
    },
    "r": {
     "delete_cmd_postfix": ") ",
     "delete_cmd_prefix": "rm(",
     "library": "var_list.r",
     "varRefreshCmd": "cat(var_dic_list()) "
    }
   },
   "types_to_exclude": [
    "module",
    "function",
    "builtin_function_or_method",
    "instance",
    "_Feature"
   ],
   "window_display": false
  }
 },
 "nbformat": 4,
 "nbformat_minor": 5
}
